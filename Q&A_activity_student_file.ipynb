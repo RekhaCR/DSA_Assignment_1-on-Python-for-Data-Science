{
  "cells": [
    {
      "cell_type": "markdown",
      "metadata": {
        "id": "4z_Z-K1tlrS7"
      },
      "source": [
        "## 1. Complete the following code to find the area of an equilateral triangle. Output should be as displayed"
      ]
    },
    {
      "cell_type": "code",
      "execution_count": 2,
      "metadata": {
        "colab": {
          "base_uri": "https://localhost:8080/"
        },
        "id": "rP2qFD_SlrS_",
        "outputId": "f8f96270-efe2-4ae6-b332-0f0ce3afb2ea"
      },
      "outputs": [
        {
          "name": "stdout",
          "output_type": "stream",
          "text": [
            "Enter the side of the equilateral triangle: 4\n",
            "Area= 6.928\n"
          ]
        }
      ],
      "source": [
        "import math\n",
        "side = float(input(\"Enter the side of the equilateral triangle: \"))\n",
        "area = ((math.sqrt(3))/4)*pow(side,2)\n",
        "print(\"Area=\",round(area,3))"
      ]
    },
    {
      "cell_type": "markdown",
      "metadata": {
        "id": "TjVKjIfclrTB"
      },
      "source": [
        "## 2. Write a program to count the number of each characters in a string"
      ]
    },
    {
      "cell_type": "code",
      "execution_count": 12,
      "metadata": {
        "colab": {
          "base_uri": "https://localhost:8080/"
        },
        "id": "3iTUNww3iG_c",
        "outputId": "4fabfdf1-a0e8-4add-bc5c-793668e8f5c8"
      },
      "outputs": [
        {
          "name": "stdout",
          "output_type": "stream",
          "text": [
            "Enter your string:ICT Academy\n",
            "I = 1\n",
            "C = 1\n",
            "T = 1\n",
            "  = 1\n",
            "A = 1\n",
            "c = 1\n",
            "a = 1\n",
            "d = 1\n",
            "e = 1\n",
            "m = 1\n",
            "y = 1\n"
          ]
        }
      ],
      "source": [
        "List=[]\n",
        "Str=input(\"Enter your string:\")\n",
        "for i in Str:\n",
        "    if i in List:\n",
        "        continue\n",
        "    else:\n",
        "        List.append(i) \n",
        "    print(i,\"=\",Str.count(i))\n",
        "    \n",
        "\n"
      ]
    },
    {
      "cell_type": "markdown",
      "metadata": {
        "id": "l3LCULfklrTD"
      },
      "source": [
        "## Write a program to find the area and perimeter of a rectangle using functions"
      ]
    },
    {
      "cell_type": "code",
      "execution_count": 21,
      "metadata": {
        "colab": {
          "base_uri": "https://localhost:8080/"
        },
        "id": "8haQD8edlrTD",
        "outputId": "27c888eb-1399-4463-a31c-b50194c53319"
      },
      "outputs": [
        {
          "name": "stdout",
          "output_type": "stream",
          "text": [
            "Enter the length of the rectangle:25\n",
            "Enter the breadth of the rectangle:20\n",
            "Area= 500\n",
            "Perimeter= 90\n"
          ]
        }
      ],
      "source": [
        "def area(l,b):\n",
        "    return(l*b)\n",
        "def perimeter(l,b):\n",
        "    return(2*(l+b)) \n",
        "l=int(input(\"Enter the length of the rectangle:\"))    \n",
        "b= int(input(\"Enter the breadth of the rectangle:\"))\n",
        "print(\"Area=\",area(l,b))\n",
        "print(\"Perimeter=\",perimeter(l,b)) "
      ]
    },
    {
      "cell_type": "markdown",
      "metadata": {
        "id": "JHK4ZdsflrTE"
      },
      "source": [
        "## 4. Write a program to print the fibonacci series till a specified number"
      ]
    },
    {
      "cell_type": "code",
      "execution_count": 31,
      "metadata": {
        "colab": {
          "base_uri": "https://localhost:8080/"
        },
        "id": "LyBEj-4SlrTE",
        "outputId": "c14ceb02-ea06-4dd8-c5cc-0146e25def79"
      },
      "outputs": [
        {
          "name": "stdout",
          "output_type": "stream",
          "text": [
            "Enter number of series:10\n",
            "The fibonacci series for the given sequence of numbers: 0\n",
            "1\n",
            "1\n",
            "2\n",
            "3\n",
            "5\n",
            "8\n",
            "13\n",
            "21\n",
            "34\n"
          ]
        }
      ],
      "source": [
        "s=int(input(\"Enter number of series:\"))\n",
        "c=0\n",
        "a=0\n",
        "b=1\n",
        "print(\"The fibonacci series for the given sequence of numbers:\",a)\n",
        "print(b)\n",
        "if [count<s]:\n",
        "    for i in range(2,s):\n",
        "     temp=a+b\n",
        "     a=b\n",
        "     b=temp\n",
        "     print(temp)  \n",
        "     c=c+1 \n"
      ]
    },
    {
      "cell_type": "markdown",
      "metadata": {
        "id": "u4uBUcQKlrTE"
      },
      "source": [
        "## 5. Complete the following code to find the minimum of 3 number using cinditional statements. Output should be as displayed"
      ]
    },
    {
      "cell_type": "code",
      "execution_count": null,
      "metadata": {
        "id": "XdZwrZjIlrTF"
      },
      "outputs": [],
      "source": [
        "a,b,c = input(\"Enter three numbers followed by  : \").split()\n",
        "\n",
        "print(\"First number :\",a)\n",
        "print(\"Second number :\",b)\n",
        "print(\"Third number :\",c)\n",
        "\n",
        "    print(\"Entered numbers are equal!!!\")\n",
        "\n",
        "    print(a,\" is smallest\")\n",
        "\n",
        "    print(b,\" is smallest\")\n",
        "\n",
        "    print(c,\" is smallest\")"
      ]
    },
    {
      "cell_type": "code",
      "execution_count": 36,
      "metadata": {
        "colab": {
          "base_uri": "https://localhost:8080/"
        },
        "id": "FTqqtb1yMB84",
        "outputId": "f9702fad-4c5a-491a-93af-afe1b45a2b08"
      },
      "outputs": [
        {
          "name": "stdout",
          "output_type": "stream",
          "text": [
            "Enter three numbers followed by space : 23 15 68\n",
            "First number : 23\n",
            "Second number : 15\n",
            "Third number : 68\n",
            "15  is smallest\n"
          ]
        }
      ],
      "source": [
        "a,b,c = input(\"Enter three numbers followed by space : \").split()\n",
        "\n",
        "print(\"First number :\",a)\n",
        "print(\"Second number :\",b)\n",
        "print(\"Third number :\",c)\n",
        "if(a==b==c):\n",
        "   print(\"Entered numbers are equal!!!\")\n",
        "elif(a<b and a<c):\n",
        "  print(a,\"is the smallest number\")\n",
        "elif(b<a and b<c):\n",
        "  print(b,\" is smallest\") \n",
        "else:\n",
        "  print(c,\" is smallest\")\n",
        "\n",
        "    \n"
      ]
    },
    {
      "cell_type": "markdown",
      "metadata": {
        "id": "aR_CnToWlrTG"
      },
      "source": [
        "## 6. Write a program to print star pyramind. The number of rows should be taken as input from the user"
      ]
    },
    {
      "cell_type": "code",
      "execution_count": 42,
      "metadata": {
        "colab": {
          "base_uri": "https://localhost:8080/"
        },
        "id": "M37A-buplrTG",
        "outputId": "b7cf3be7-ef7c-43ff-8ad8-41b428f6ddf5"
      },
      "outputs": [
        {
          "name": "stdout",
          "output_type": "stream",
          "text": [
            "Enter number of rows20\n",
            "*\n",
            "**\n",
            "***\n",
            "****\n",
            "*****\n",
            "******\n",
            "*******\n",
            "********\n",
            "*********\n",
            "**********\n",
            "***********\n",
            "************\n",
            "*************\n",
            "**************\n",
            "***************\n",
            "****************\n",
            "*****************\n",
            "******************\n",
            "*******************\n",
            "********************\n"
          ]
        }
      ],
      "source": [
        "r=int(input('Enter number of rows'))\n",
        "for i in range(0,r):\n",
        "    for j in range(0,i+1):\n",
        "        print(\"*\",end=\"\")\n",
        "    print('\\r')"
      ]
    },
    {
      "cell_type": "markdown",
      "metadata": {
        "id": "tlY6aFWBlrTH"
      },
      "source": [
        "## 7. Complete the following code to convert hour into seconds. Output should be as displayed"
      ]
    },
    {
      "cell_type": "code",
      "execution_count": 43,
      "metadata": {
        "colab": {
          "base_uri": "https://localhost:8080/"
        },
        "id": "YOZQFk7FlrTH",
        "outputId": "76b16f1d-8a0d-440e-d1b0-cc5e06dea306"
      },
      "outputs": [
        {
          "name": "stdout",
          "output_type": "stream",
          "text": [
            "Enter time in hours1\n",
            "1  Hour is equal to 3600  Seconds\n"
          ]
        }
      ],
      "source": [
        "def to_seconds(t):\n",
        "    t=t*3600\n",
        "    return t\n",
        "time_in_hours = int(input(\"Enter time in hours\"))\n",
        "print(time_in_hours ,\" Hour is equal to\" ,to_seconds(time_in_hours) ,\" Seconds\")"
      ]
    },
    {
      "cell_type": "markdown",
      "metadata": {
        "id": "CnYorNiLlrTI"
      },
      "source": [
        "## 8. Write a program to print multiplication table as below"
      ]
    },
    {
      "cell_type": "code",
      "execution_count": 48,
      "metadata": {
        "colab": {
          "base_uri": "https://localhost:8080/"
        },
        "id": "dPQqDPuDlrTI",
        "outputId": "5ce06d6f-4f22-415b-e426-5caf2b686e27"
      },
      "outputs": [
        {
          "name": "stdout",
          "output_type": "stream",
          "text": [
            "Enter a number to find the multiplication table:4\n",
            "1 x 4 = 4\n",
            "2 x 4 = 8\n",
            "3 x 4 = 12\n",
            "4 x 4 = 16\n",
            "5 x 4 = 20\n",
            "6 x 4 = 24\n",
            "7 x 4 = 28\n",
            "8 x 4 = 32\n",
            "9 x 4 = 36\n",
            "10 x 4 = 40\n"
          ]
        }
      ],
      "source": [
        "n=int(input(\"Enter a number to find the multiplication table:\"))\n",
        "for i in range(1,11):\n",
        " print(i,\"x\",n,\"=\",n*i)"
      ]
    },
    {
      "cell_type": "markdown",
      "metadata": {
        "id": "Fiaez8iblrTI"
      },
      "source": [
        "## 9. Write a program to take your 5 favorite food as list and print each as 'I like Biriyani'"
      ]
    },
    {
      "cell_type": "code",
      "execution_count": 50,
      "metadata": {
        "colab": {
          "base_uri": "https://localhost:8080/"
        },
        "id": "39W1zFX7lrTJ",
        "outputId": "24f6b82a-a785-4438-bfef-324256686d14"
      },
      "outputs": [
        {
          "name": "stdout",
          "output_type": "stream",
          "text": [
            "Enter your favourite list of foods:Apple Biriyani Orange\n",
            "I like Apple\n",
            "I like Biriyani\n",
            "I like Orange\n"
          ]
        }
      ],
      "source": [
        "f=input(\"Enter your favourite list of foods:\").split()\n",
        "for i in f:\n",
        "    print(\"I like\",i)"
      ]
    },
    {
      "cell_type": "markdown",
      "metadata": {
        "id": "3vlcDNNEP7d_"
      },
      "source": [
        "## 10. Find error(s) in the following code(if any) and rewrite code.\n",
        "\n"
      ]
    },
    {
      "cell_type": "code",
      "execution_count": 55,
      "metadata": {
        "colab": {
          "base_uri": "https://localhost:8080/"
        },
        "id": "coREkcY3P9sG",
        "outputId": "1286ffdf-5ef4-4bea-ba67-e0a56681d322"
      },
      "outputs": [
        {
          "name": "stdout",
          "output_type": "stream",
          "text": [
            "Enter value of x:5\n",
            "They are unequal\n",
            "They are unequal\n",
            "They are unequal\n",
            "They are unequal\n",
            "They are unequal\n",
            "They are equal\n",
            "They are unequal\n",
            "They are unequal\n",
            "They are unequal\n",
            "They are unequal\n"
          ]
        }
      ],
      "source": [
        "x= int(input(\"Enter value of x:\"))\n",
        "for y in range (0,10):\n",
        "     if x==y:\n",
        "          print(\"They are equal\")\n",
        "     else:\n",
        "          print( \"They are unequal\")"
      ]
    }
  ],
  "metadata": {
    "colab": {
      "collapsed_sections": [],
      "name": "Q&A activity student file.ipynb",
      "provenance": []
    },
    "kernelspec": {
      "display_name": "Python 3",
      "language": "python",
      "name": "python3"
    },
    "language_info": {
      "codemirror_mode": {
        "name": "ipython",
        "version": 3
      },
      "file_extension": ".py",
      "mimetype": "text/x-python",
      "name": "python",
      "nbconvert_exporter": "python",
      "pygments_lexer": "ipython3",
      "version": "3.7.6"
    }
  },
  "nbformat": 4,
  "nbformat_minor": 0
}
